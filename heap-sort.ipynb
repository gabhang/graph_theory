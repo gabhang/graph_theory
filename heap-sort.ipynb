{
 "cells": [
  {
   "cell_type": "markdown",
   "id": "4b7787a3",
   "metadata": {},
   "source": [
    "# Heap Sort Algorithm\n",
    "***"
   ]
  },
  {
   "cell_type": "markdown",
   "id": "95da89e0",
   "metadata": {},
   "source": [
    "### Introduction\n",
    "Heap Sort is a very *efficient* and widely used **sorting algorithm** that uses a **heap** *data structure*. However, it might be *unstable* as actions in the heap might modify the relative order of equivalent keys. \n",
    "\n",
    "Reference: __[Heap Sort](http://syllabus.cs.manchester.ac.uk/ugt/2019/COMP26120/SortingTool/heap_sort_info.html)__\n",
    "\n",
    "Heap sort can also be thought of as a ***more advanced version*** of **binary trees**. Instead of *building nodes*, it *generates a heap* by *altering the position of elements* in the array itself.\n",
    "\n",
    "Reference: __[Heap Sort Algorithm](https://www.interviewbit.com/tutorial/heap-sort-algorithm/)__"
   ]
  },
  {
   "cell_type": "markdown",
   "id": "3fd2f5ad",
   "metadata": {},
   "source": [
    "## Binary Tree\n",
    "***\n",
    "Before moving more into heap and heap sort, it is important to understand binary tree as it is the fundamental of heap.\n",
    "\n",
    "<img src=\"https://miro.medium.com/max/1056/1*8_QJ6hYqWdLomvwNt6ydBg.png\" width=400 height=400 />\n",
    "\n",
    "A Binary Tree is a non-linear data strcture which consists of ***nodes*** that *linked by edges*. Each node can ***only have at most two children***.\n",
    "\n",
    "Reference: __[Data Structures: Binary Search Trees Explained](https://medium.com/@mbetances1002/data-structures-binary-search-trees-explained-5a2eeb1a9e8b)__\n",
    "\n",
    "#### Type of nodes\n",
    "- **Root**: The one and only, located at the top of the tree.\n",
    "- **Parent Node**: Any nodes (excluding the root) that has at least one child node (sub-node).\n",
    "- **Child Node**: A sub-node that is connected by an edge from a parent node\n",
    "- **Leaf Node**: Nodes that have no sub-nodes.\n",
    "- **Subtree**: Descendants  of a parent node\n",
    "\n",
    "Reference: __[Trees, Binary Trees, and Binary Search](https://jamalrahman.co.uk/trees-binarytrees-binarysearch/)__\n",
    "\n",
    "### Complete Binary Tree\n",
    "Although there are many types of binary trees, only **complete binary tree** will be discussed in this context as it is related to heap sort.\n",
    "\n",
    "<img src=\"https://www.techiedelight.com/wp-content/uploads/Complete-Binary-Tree.png\" width=600 height=600 />\n",
    "\n",
    "Reference: __[Check if a binary tree is a complete binary tree or not](https://www.techiedelight.com/check-given-binary-tree-complete-binary-tree-not/)__\n",
    "\n",
    "In a *complete binary tree*, every level **has to be filled with nodes**, except the *lowest level* of the tree. However, it is vital to note that **any nodes at the lowest level of the tree must lean to the** ***left*** in order to be a *complete binary tree* as shown in the diagram above. Without any gaps between nodes, the tree will be **balanced** and therefore, allow heap to be represented efficiently in an array.\n",
    "\n",
    "Reference: __[Heap vs Binary Search Tree](https://www.baeldung.com/cs/heap-vs-binary-search-tree)__"
   ]
  },
  {
   "cell_type": "markdown",
   "id": "1852a3ff",
   "metadata": {},
   "source": [
    "## Heap\n",
    "***\n",
    "<img src=\"https://miro.medium.com/max/1400/1*piq5Ggxwz2Ldi26uQz_d5g.png\" width=600 height=600 />\n",
    "\n",
    "The tree needs to be a heap to be sorted and a heap has to meet two requirements:\n",
    "1. It must be a **complete binary tree**.\n",
    "2. In this complete binary tree, the *root* or *parent* node must be ***less or equal*** to the value of its *child nodes* while ***the root has the smallest number***, this heap is known as **Min-Heap**; or the *root* or *parent node* must be ***greater or equal*** to the value of its *child nodes* while ***the root has the largest number***, this heap is known as **Max-Heap**. \n",
    "\n",
    "Reference: __[What is Binary Heap?](https://medium.com/@mopurisreenath/what-is-binary-heap-25cd0f8bed24)__\n",
    "\n",
    "\n",
    "### Characteristics of Heap\n",
    "As stated above, heap is a complete binary tree, hence, finding the location of a parent node and children nodes of a heap is feasible and straightforward.\n",
    "\n",
    "- The left child of a node $(i)$ will be at position $(2 \\times i) + 1$ while the right child of a node $(i)$ will be at position $(2 \\times i) + 2$\n",
    "- The parent of a node will be position at $floor((i - 1) \\div 2)$\n",
    "\n",
    "#### Example Calculation\n",
    "\n",
    "<img src=\"https://www.geeksforgeeks.org/wp-content/uploads/binaryheap.png\" width=300 height=300 />\n",
    "\n",
    "According to the tree above, **node 3** has the *index of 1* where $i = 1$.\n",
    "<br>\n",
    ">*Left child index of 3:*\n",
    "$(2 \\times i) + 1 = (2 \\times 1) + 1 = 3$\n",
    "<br>\n",
    "*Right child index of 3:*\n",
    "$(2 \\times i) + 2 = (2 \\times 1) + 2 = 4$\n",
    "<br>\n",
    "\n",
    "From calculations above, ***left child*** of **node 3** is positioned at *index 3* which is **node 5** and its ***right child*** is positioned at *index 4* which is **node 9**. Conversely, both *parents* of **node 5 and node 9** is **node 3** which can be shown with calculations below:\n",
    "<br>\n",
    "> *Parent index of 5:*\n",
    "$floor((i - 1) \\div 2) = floor((3 - 1) \\div 2) = floor(1) = 1$\n",
    "<br>\n",
    "*Parent index of 9:*\n",
    "$floor((i - 1) \\div 2) = floor((4 - 1) \\div 2) = floor(1.5) = 1$\n",
    "\n",
    "Reference: __[Binary Heap](https://www.geeksforgeeks.org/binary-heap/)__"
   ]
  },
  {
   "cell_type": "markdown",
   "id": "c84fd649",
   "metadata": {},
   "source": [
    "## Heap Sort\n",
    "***\n",
    "To sort a heap, there are **two essential steps** need to be ***repeated*** until the dataset is sorted:\n",
    "1. Convert the current complete binary tree into a *max-heap*.\n",
    "2. *Switch the root node* of the Max-Heap with the *last node* and *remove* it.\n",
    "\n",
    "The illustration below clearly shows how heap sort works:\n",
    "\n",
    "<img src=\"http://www.btechsmartclass.com/data_structures/ds_images/Heap_Sort_Algorithm.png\" width=500 height=300 />\n",
    "\n",
    "Reference: __[Heap Sort Algorithm](http://www.btechsmartclass.com/data_structures/heap-sort.html)__"
   ]
  },
  {
   "cell_type": "markdown",
   "id": "3d29f579",
   "metadata": {},
   "source": [
    "## Heap Sort with Python\n",
    "***\n",
    "In this context, **Python** will be used as the *main programming language* to demonstrate heap sort by code.\n",
    "\n",
    "### Binary Tree\n",
    "Before diving into codes for heap sort algorithm. Here is how to construct a binary tree using Python:"
   ]
  },
  {
   "cell_type": "code",
   "execution_count": 1,
   "id": "44939319",
   "metadata": {},
   "outputs": [
    {
     "data": {
      "image/png": "[encoded data removed]",
      "text/plain": [
       "<Figure size 432x288 with 1 Axes>"
      ]
     },
     "metadata": {},
     "output_type": "display_data"
    }
   ],
   "source": [
    "# imports\n",
    "import networkx as nx # for graphs\n",
    "import matplotlib as plt # for plotting\n",
    "import math # for math functions\n",
    "\n",
    "def draw_bTree(L):\n",
    "    # Generate a balanced binary tree\n",
    "    bTree = nx.balanced_tree(2, math.floor(math.log(len(L), 2)))\n",
    "    # Remove nodes beyond the length of L.\n",
    "    bTree.remove_nodes_from(list(bTree.nodes)[len(L):])\n",
    "    # Relabel the nodes with elements of L.\n",
    "    bTree = nx.relabel_nodes(bTree, dict(zip(bTree.nodes, L)), copy=True)\n",
    "    # Get nice positions for the nodes in the picture.\n",
    "    pos = nx.drawing.nx_pydot.graphviz_layout(bTree, prog=\"dot\")\n",
    "    # Draw the graph.\n",
    "    nx.draw(bTree, pos, with_labels=True, node_color='skyblue', node_size=1500, font_size=24)\n",
    "\n",
    "# Sample List\n",
    "L = [21, 100, 23, 16, 1, 2, 99]\n",
    "# Draw Binary Tree\n",
    "draw_bTree(L)"
   ]
  },
  {
   "cell_type": "markdown",
   "id": "8f687d9f",
   "metadata": {},
   "source": [
    "### Heapify Function\n",
    "\n",
    "As illustrated above, the complete binary tree needs to be *modified into a Max-Heap* to implement heap sort. This modification process can be known as **heapify** or **heapification**. The heapify function will alter the root node to its position to ensure Max-Heap.\n",
    "\n",
    "To achieve Max-Heap, there are two approaches:\n",
    "1. **Sift up**: A child node swaps with its parent if the parent is smaller than it, therefore moving/sifting up the tree\n",
    "2. **Sift down**: A parent node (including the root node) swaps with its smaller child while moving/sifting down the tree.\n",
    "\n",
    "It is interestingly to note that heapify **only** ***uses sift down approach***. In the scenario where *all nodes have to be swapped*, **sift up** approach will start checking and swapping from the *leaf nodes* while **sift down** approach will start from the *root node*. As a result, sift down approach will be ***more effective*** as it will not need to check the leaf nodes at the lowest level. \n",
    "\n",
    "Reference: __[How can building a heap be O(n) time complexity?](https://stackoverflow.com/questions/9755721/how-can-building-a-heap-be-on-time-complexity)__\n",
    "\n",
    "Code demonstration for heapify using sift down approach in python is as follows:"
   ]
  },
  {
   "cell_type": "code",
   "execution_count": 2,
   "id": "038c96ac",
   "metadata": {},
   "outputs": [],
   "source": [
    "def heapify(array, n, i):\n",
    "    # n is the size/length of the array\n",
    "    # i is the current node index (root of current subtree/parent node)\n",
    "    \n",
    "    # Initialise parent and its children nodes\n",
    "    parent = i\n",
    "    left_child = 2 * i + 1\n",
    "    right_child = 2 * i + 2\n",
    "    \n",
    "    # If left_child index exists (not bigger than size/length of array)\n",
    "    # and if current node is smaller than its left child\n",
    "    if left_child < n and array[parent] < array[left_child]:\n",
    "        # Change parent index to left_child\n",
    "        parent = left_child\n",
    "        \n",
    "    # If right_child index exists (not bigger than size/length of array)\n",
    "    # and if current node is smaller than its left child\n",
    "    if right_child < n and array[parent] < array[right_child]:\n",
    "        # Change parent index to right_child\n",
    "        parent = right_child\n",
    "        \n",
    "    # If initial root/parent node changed\n",
    "    if parent != i:\n",
    "        # Swap and repeat heapify to ensure root/parent node is the largest\n",
    "        array[i], array[parent] = array[parent], array[i]\n",
    "        heapify(array, n, parent)"
   ]
  },
  {
   "cell_type": "markdown",
   "id": "03220aa7",
   "metadata": {},
   "source": [
    "### Heap Sort Function\n",
    "\n",
    "**Heapify function** will be implemented ***repetitively*** from the last parent to ensure that the tree ***satisfies Max-Heap property***. \n",
    "\n",
    "To find the last parent, the equation below is used:\n",
    "> **last_parent** = $floor(((n-1)-1) \\div 2)$ \n",
    "<br>*n is the size of the binary tree dataset while $(n-1)$ is the last node in the tree*\n",
    "\n",
    "The root from the Max-Heap will then be ***removed*** and heapify function will be reimplemented **iteratively** to establish a Max-Heap. The array dataset will be *sorted* after all iterations are completed.\n",
    "\n",
    "Reference: __[HeapSort](https://www.geeksforgeeks.org/heap-sort/#:~:text=Heap%20sort%20is%20a%20comparison,process%20for%20the%20remaining%20elements)__\n",
    "\n",
    "The following is a python code example for heap sort:"
   ]
  },
  {
   "cell_type": "code",
   "execution_count": 3,
   "id": "1ae69ef9",
   "metadata": {},
   "outputs": [],
   "source": [
    "def heap_sort(array):\n",
    "    \n",
    "    # Get the size/length of the array\n",
    "    n = len(array)\n",
    "    \n",
    "    # Get the last node\n",
    "    last_node = n - 1\n",
    "    \n",
    "    # Get the last parent using the equation shown above\n",
    "    # Note: \"//\" is floor division in python\n",
    "    last_parent = (last_node - 1) // 2\n",
    "    \n",
    "    # Modify tree to Max-Heap by looping backwards from the last parent\n",
    "    for i in range(last_parent, -1, -1):\n",
    "        heapify(array, n, i)\n",
    "        \n",
    "    # Swap root node with last node, extract it and \"re-heapify\" the tree\n",
    "    for i in range(last_node, 0, -1):\n",
    "        array[i], array[0] = array[0], array[i]\n",
    "        heapify(array, i, 0)"
   ]
  },
  {
   "cell_type": "code",
   "execution_count": 4,
   "id": "87a65320",
   "metadata": {},
   "outputs": [
    {
     "name": "stdout",
     "output_type": "stream",
     "text": [
      "Binary Tree before heap sort:\n"
     ]
    },
    {
     "data": {
      "image/png": "[encoded data removed]",
      "text/plain": [
       "<Figure size 432x288 with 1 Axes>"
      ]
     },
     "metadata": {},
     "output_type": "display_data"
    }
   ],
   "source": [
    "# Sample list\n",
    "print(\"Binary Tree before heap sort:\")\n",
    "draw_bTree(L)"
   ]
  },
  {
   "cell_type": "code",
   "execution_count": 5,
   "id": "6da1ae94",
   "metadata": {},
   "outputs": [
    {
     "name": "stdout",
     "output_type": "stream",
     "text": [
      "Binary Tree after heap sort:\n"
     ]
    },
    {
     "data": {
      "image/png": "[encoded data removed]",
      "text/plain": [
       "<Figure size 432x288 with 1 Axes>"
      ]
     },
     "metadata": {},
     "output_type": "display_data"
    }
   ],
   "source": [
    "# Sort the list using heap sort algorithm\n",
    "heap_sort(L)\n",
    "print(\"Binary Tree after heap sort:\")\n",
    "L\n",
    "draw_bTree(L)"
   ]
  },
  {
   "cell_type": "markdown",
   "id": "1fc4afdf",
   "metadata": {},
   "source": [
    "## Heap Sort Complexity\n",
    "***\n",
    "Time Complexity and Space Complexity of heap sort will be discussed in this section. In lay man's terms, **time complexity** measures the ***CPU usage*** used while **space complexity** computes the amount of ***RAM usage***. \n",
    "\n",
    "### Time Complexity\n",
    "\n",
    "Same as previous, heap will be analysed beforehand. Heapify process has a time complexity of `O(log n)` as nodes ***will be swapped to satisfy Max-Heap property***. As a complete binary tree has a height of $log(n)$, swaps could be done till $log(n)$ moves.\n",
    "\n",
    "As **heap sort implements heapify** ***repeatedly or n<sup>th</sup> times***, the time complexity of heap sort algorithm is `O(nlog n)`\n",
    "\n",
    "However, one may argue that heap sort algorithm might have `O(n)` time complexity ***if the data in the array or tree is all identical***. During heapify process, the last node replacing the root node **will not need to swap down the heap** as *all elements are identical*. Hence, the time complexity for heapify process in this scenario will be `O(1)`. As a result, heap sort algorithm will take `O(n)` time by repeating heapify process n<sup>th</sup> times **if and only if** ***elements in the array or tree are all the same***.\n",
    "\n",
    "### Space Complexity\n",
    "\n",
    "As numbers in the array remain **unchanged** throughout the execution of heap sort, the space complexity of heap sort is `O(1)`. The reason behind this is because all swapping process happens ***within the heap structure*** and all root nodes that are removed during heap sort are *placed at the end of the array*. Therefore, **no extra space is needed** for heap sort algorithm.\n",
    "\t\n",
    "References: __[Time & Space Complexity of Heap Sort](https://iq.opengenus.org/time-complexity-of-heap-sort/), [Heapsort Algorithm](https://www.interviewcake.com/concept/java/heapsort)__"
   ]
  },
  {
   "cell_type": "markdown",
   "id": "7568d82f",
   "metadata": {},
   "source": [
    "## Heap Sort with Graph Theory\n",
    "***\n",
    "<img src=\"https://miro.medium.com/max/1400/1*sdUlnmnwMcPQljH52HiYBQ.jpeg\" width=400 height=400 />\n",
    "\n",
    "A network, or a collection of related items, is represented using graphs. **Graph theory** is about connections between ***nodes/vertices*** connected by ***edges/links*** which can be *directed (one-way)* or *undirected (bi-directional)*.\n",
    "\n",
    "Reference: __[A Gentle Introduction To Graph Theory](https://medium.com/basecs/a-gentle-introduction-to-graph-theory-77969829ead8)__\n",
    "\n",
    "The implementation of graphs could be seen almost anywhere around us. From mapping distance or getting directions on a map to social media connections or friendships, all of these are associated with graphs. \n",
    "\n",
    "<img src=\"https://www.educative.io/api/edpresso/shot/6304047290646528/image/6393961088811008\" width=400 height=400 />\n",
    "\n",
    "In this context, heap sort is correlated to graph theory as trees are used. Trees are a ***subset*** of graphs which have certain rules to follow:\n",
    "1. Only **directed edges** are allowed.\n",
    "2. With `N` nodes, there will be `(N-1)` edges.\n",
    "3. All nodes must somehow be linked to the root node with **only one possible path**.\n",
    "\n",
    "Graph theory is involved in finding the parent and child index, swapping nodes to satisfy Max-Heap and to sort the Max Heap into the correct sequence. Everything seems *simple* and *straightforward* with the help of graph theory.\n",
    "\n",
    "Reference: __[Trees vs. graphs](https://www.educative.io/edpresso/trees-vs-graphs)__"
   ]
  }
 ],
 "metadata": {
  "kernelspec": {
   "display_name": "Python 3 (ipykernel)",
   "language": "python",
   "name": "python3"
  },
  "language_info": {
   "codemirror_mode": {
    "name": "ipython",
    "version": 3
   },
   "file_extension": ".py",
   "mimetype": "text/x-python",
   "name": "python",
   "nbconvert_exporter": "python",
   "pygments_lexer": "ipython3",
   "version": "3.9.7"
  }
 },
 "nbformat": 4,
 "nbformat_minor": 5
}
