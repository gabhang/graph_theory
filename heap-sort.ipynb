{
 "cells": [
  {
   "cell_type": "markdown",
   "id": "4b7787a3",
   "metadata": {},
   "source": [
    "# Heap Sort\n",
    "***"
   ]
  },
  {
   "cell_type": "markdown",
   "id": "95da89e0",
   "metadata": {},
   "source": [
    "### Introduction\n",
    "Heap Sort is a very efficient **sorting algorithm** that uses a **heap** *data structure*."
   ]
  },
  {
   "cell_type": "markdown",
   "id": "dc499e87",
   "metadata": {},
   "source": [
    "## Heap\n",
    "\n",
    "***"
   ]
  },
  {
   "cell_type": "code",
   "execution_count": null,
   "id": "6b8cbb49",
   "metadata": {},
   "outputs": [],
   "source": []
  }
 ],
 "metadata": {
  "kernelspec": {
   "display_name": "Python 3 (ipykernel)",
   "language": "python",
   "name": "python3"
  },
  "language_info": {
   "codemirror_mode": {
    "name": "ipython",
    "version": 3
   },
   "file_extension": ".py",
   "mimetype": "text/x-python",
   "name": "python",
   "nbconvert_exporter": "python",
   "pygments_lexer": "ipython3",
   "version": "3.9.7"
  }
 },
 "nbformat": 4,
 "nbformat_minor": 5
}
