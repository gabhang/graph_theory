{
 "cells": [
  {
   "cell_type": "markdown",
   "id": "4b7787a3",
   "metadata": {},
   "source": [
    "# Heap Sort\n",
    "***"
   ]
  },
  {
   "cell_type": "markdown",
   "id": "95da89e0",
   "metadata": {},
   "source": [
    "### Introduction\n",
    "Heap Sort is a very *efficient* and widely used **sorting algorithm** that uses a **heap** *data structure*. However, it might be *unstable* as actions in the heap might modify the relative order of equivalent keys. \n",
    "\n",
    "Reference: __[Heap Sort](http://syllabus.cs.manchester.ac.uk/ugt/2019/COMP26120/SortingTool/heap_sort_info.html)__\n",
    "\n",
    "Heap sort can also be thought of as a ***more advanced version*** of **binary trees**. Instead of *building nodes*, it *generates a heap* by *altering the position of elements* in the array itself.\n",
    "\n",
    "Reference: __[Heap Sort Algorithm](https://www.interviewbit.com/tutorial/heap-sort-algorithm/)__"
   ]
  },
  {
   "cell_type": "markdown",
   "id": "1852a3ff",
   "metadata": {},
   "source": [
    "## Heap\n",
    "***\n",
    "<img src=\"https://miro.medium.com/max/1400/1*piq5Ggxwz2Ldi26uQz_d5g.png\" width=600 height=600 />\n",
    "\n",
    "\n",
    "A heap has to meet two requirements:\n",
    "- It must be a **complete binary tree**.\n",
    "- In this complete binary tree, the *root* or *parent* node must be ***less or equal*** to the value of its *child nodes* while ***the root has the smallest number***, this heap is known as **Min-Heap**; or the *root* or *parent node* must be ***greater or equal*** to the value of its *child nodes* while ***the root has the largest number***, this heap is known as **Max-Heap**. \n",
    "\n",
    "Reference: __[What is Binary Heap?](https://medium.com/@mopurisreenath/what-is-binary-heap-25cd0f8bed24)__"
   ]
  }
 ],
 "metadata": {
  "kernelspec": {
   "display_name": "Python 3 (ipykernel)",
   "language": "python",
   "name": "python3"
  },
  "language_info": {
   "codemirror_mode": {
    "name": "ipython",
    "version": 3
   },
   "file_extension": ".py",
   "mimetype": "text/x-python",
   "name": "python",
   "nbconvert_exporter": "python",
   "pygments_lexer": "ipython3",
   "version": "3.9.7"
  }
 },
 "nbformat": 4,
 "nbformat_minor": 5
}
