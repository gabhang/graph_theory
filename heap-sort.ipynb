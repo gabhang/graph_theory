{
 "cells": [
  {
   "cell_type": "markdown",
   "id": "4b7787a3",
   "metadata": {},
   "source": [
    "# Heap Sort Algorithm\n",
    "***"
   ]
  },
  {
   "cell_type": "markdown",
   "id": "95da89e0",
   "metadata": {},
   "source": [
    "### Introduction\n",
    "Heap Sort is a very *efficient* and widely used **sorting algorithm** that uses a **heap** *data structure*. However, it might be *unstable* as actions in the heap might modify the relative order of equivalent keys. \n",
    "\n",
    "Reference: __[Heap Sort](http://syllabus.cs.manchester.ac.uk/ugt/2019/COMP26120/SortingTool/heap_sort_info.html)__\n",
    "\n",
    "Heap sort can also be thought of as a ***more advanced version*** of **binary trees**. Instead of *building nodes*, it *generates a heap* by *altering the position of elements* in the array itself.\n",
    "\n",
    "Reference: __[Heap Sort Algorithm](https://www.interviewbit.com/tutorial/heap-sort-algorithm/)__"
   ]
  },
  {
   "cell_type": "markdown",
   "id": "3fd2f5ad",
   "metadata": {},
   "source": [
    "## Binary Tree\n",
    "***\n",
    "Before moving more into heap and heap sort, it is important to understand binary tree as it is the fundamental of heap.\n",
    "\n",
    "<img src=\"https://miro.medium.com/max/1056/1*8_QJ6hYqWdLomvwNt6ydBg.png\" width=400 height=400 />\n",
    "\n",
    "A Binary Tree is a non-linear data strcture which consists of ***nodes*** that *linked by edges*. Each node can ***only have at most two children***.\n",
    "\n",
    "Reference: __[Data Structures: Binary Search Trees Explained](https://medium.com/@mbetances1002/data-structures-binary-search-trees-explained-5a2eeb1a9e8b)__\n",
    "\n",
    "#### Type of nodes\n",
    "- **Root**: The one and only, located at the top of the tree.\n",
    "- **Parent Node**: Any nodes (excluding the root) that has at least one child node (sub-node).\n",
    "- **Child Node**: A sub-node that is connected by an edge from a parent node\n",
    "- **Leaf Node**: Nodes that have no sub-nodes.\n",
    "- **Subtree**: Descendants  of a parent node\n",
    "\n",
    "Reference: __[Trees, Binary Trees, and Binary Search](https://jamalrahman.co.uk/trees-binarytrees-binarysearch/)__\n",
    "\n",
    "### Complete Binary Tree\n",
    "Although there are many types of binary trees, only **complete binary tree** will be discussed in this context as it is related to heap sort.\n",
    "\n",
    "<img src=\"https://www.techiedelight.com/wp-content/uploads/Complete-Binary-Tree.png\" width=600 height=600 />\n",
    "\n",
    "Reference: __[Check if a binary tree is a complete binary tree or not](https://www.techiedelight.com/check-given-binary-tree-complete-binary-tree-not/)__\n",
    "\n",
    "In a *complete binary tree*, every level **has to be filled with nodes**, except the *lowest level* of the tree. However, it is vital to note that **any nodes at the lowest level of the tree must lean to the** ***left*** in order to be a *complete binary tree* as shown in the diagram above. Without any gaps between nodes, the tree will be **balanced** and therefore, allow heap to be represented efficiently in an array.\n",
    "\n",
    "Reference: __[Heap vs Binary Search Tree](https://www.baeldung.com/cs/heap-vs-binary-search-tree)__"
   ]
  },
  {
   "cell_type": "markdown",
   "id": "1852a3ff",
   "metadata": {},
   "source": [
    "## Heap\n",
    "***\n",
    "<img src=\"https://miro.medium.com/max/1400/1*piq5Ggxwz2Ldi26uQz_d5g.png\" width=600 height=600 />\n",
    "\n",
    "The tree needs to be a heap to be sorted and a heap has to meet two requirements:\n",
    "1. It must be a **complete binary tree**.\n",
    "2. In this complete binary tree, the *root* or *parent* node must be ***less or equal*** to the value of its *child nodes* while ***the root has the smallest number***, this heap is known as **Min-Heap**; or the *root* or *parent node* must be ***greater or equal*** to the value of its *child nodes* while ***the root has the largest number***, this heap is known as **Max-Heap**. \n",
    "\n",
    "Reference: __[What is Binary Heap?](https://medium.com/@mopurisreenath/what-is-binary-heap-25cd0f8bed24)__\n",
    "\n",
    "\n",
    "### Characteristics of Heap\n",
    "As stated above, heap is a complete binary tree, hence, finding the location of a parent node and children nodes of a heap is feasible and straightforward.\n",
    "\n",
    "- The left child of a node $(i)$ will be at position $(2 \\times i) + 1$ while the right child of a node $(i)$ will be at position $(2 \\times i) + 2$\n",
    "- The parent of a node will be position at $floor((i - 1) \\div 2)$\n",
    "\n",
    "#### Example Calculation\n",
    "\n",
    "<img src=\"https://www.geeksforgeeks.org/wp-content/uploads/binaryheap.png\" width=300 height=300 />\n",
    "\n",
    "According to the tree above, **node 3** has the *index of 1* where $i = 1$.\n",
    "<br>\n",
    ">*Left child index of 3:*\n",
    "$(2 \\times i) + 1 = (2 \\times 1) + 1 = 3$\n",
    "<br>\n",
    "*Right child index of 3:*\n",
    "$(2 \\times i) + 2 = (2 \\times 1) + 2 = 4$\n",
    "<br>\n",
    "\n",
    "From calculations above, ***left child*** of **node 3** is positioned at *index 3* which is **node 5** and its ***right child*** is positioned at *index 4* which is **node 9**. Conversely, both *parents* of **node 5 and node 9** is **node 3** which can be shown with calculations below:\n",
    "<br>\n",
    "> *Parent index of 5:*\n",
    "$floor((i - 1) \\div 2) = floor((3 - 1) \\div 2) = floor(1) = 1$\n",
    "<br>\n",
    "*Parent index of 9:*\n",
    "$floor((i - 1) \\div 2) = floor((4 - 1) \\div 2) = floor(1.5) = 1$\n",
    "\n",
    "Reference: __[Binary Heap](https://www.geeksforgeeks.org/binary-heap/)__"
   ]
  },
  {
   "cell_type": "markdown",
   "id": "c84fd649",
   "metadata": {},
   "source": [
    "## Heap Sort\n",
    "***\n",
    "To sort a heap, there are **two essential steps** need to be ***repeated*** until the dataset is sorted:\n",
    "1. Convert the current complete binary tree into a *max-heap*.\n",
    "2. *Switch the root node* of the Max-Heap with the *last node* and *remove* it.\n",
    "\n",
    "The illustration below clearly shows how heap sort works:\n",
    "\n",
    "<img src=\"http://www.btechsmartclass.com/data_structures/ds_images/Heap_Sort_Algorithm.png\" width=500 height=300 />\n",
    "\n",
    "Reference: __[Heap Sort Algorithm](http://www.btechsmartclass.com/data_structures/heap-sort.html)__"
   ]
  }
 ],
 "metadata": {
  "kernelspec": {
   "display_name": "Python 3 (ipykernel)",
   "language": "python",
   "name": "python3"
  },
  "language_info": {
   "codemirror_mode": {
    "name": "ipython",
    "version": 3
   },
   "file_extension": ".py",
   "mimetype": "text/x-python",
   "name": "python",
   "nbconvert_exporter": "python",
   "pygments_lexer": "ipython3",
   "version": "3.9.7"
  }
 },
 "nbformat": 4,
 "nbformat_minor": 5
}
