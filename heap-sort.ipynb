{
 "cells": [
  {
   "cell_type": "markdown",
   "id": "4b7787a3",
   "metadata": {},
   "source": [
    "# Heap Sort\n",
    "***"
   ]
  },
  {
   "cell_type": "markdown",
   "id": "95da89e0",
   "metadata": {},
   "source": [
    "### Introduction\n",
    "Heap Sort is a very *efficient* and widely used **sorting algorithm** that uses a **heap** *data structure*. However, it might be *unstable* as actions in the heap might modify the relative order of equivalent keys. \n",
    "\n",
    "Reference: __[Heap Sort](http://syllabus.cs.manchester.ac.uk/ugt/2019/COMP26120/SortingTool/heap_sort_info.html)__\n",
    "\n",
    "Heap sort can also be thought of as a ***more advanced version*** of **binary trees**. Instead of *building nodes*, it *generates a heap* by *altering the position of elements* in the array itself.\n",
    "\n",
    "Reference: __[Heap Sort Algorithm](https://www.interviewbit.com/tutorial/heap-sort-algorithm/)__"
   ]
  },
  {
   "cell_type": "markdown",
   "id": "3fd2f5ad",
   "metadata": {},
   "source": [
    "## Binary Tree\n",
    "***\n",
    "Before moving more into heap and heap sort, it is important to understand binary tree as it is the fundamental of heap.\n",
    "\n",
    "<img src=\"https://miro.medium.com/max/1056/1*8_QJ6hYqWdLomvwNt6ydBg.png\" width=400 height=400 />\n",
    "\n",
    "A Binary Tree is a non-linear data strcture which consists of ***nodes*** that *linked by edges*. Each node can ***only have at most two children***.\n",
    "\n",
    "Reference: __[Data Structures: Binary Search Trees Explained](https://medium.com/@mbetances1002/data-structures-binary-search-trees-explained-5a2eeb1a9e8b)__\n",
    "\n",
    "#### Type of nodes\n",
    "- **Root**: The one and only, located at the top of the tree.\n",
    "- **Parent Node**: Any nodes (excluding the root) that has at least one child node (sub-node).\n",
    "- **Child Node**: A sub-node that is connected by an edge from a parent node\n",
    "- **Leaf Node**: Nodes that have no sub-nodes.\n",
    "- **Subtree**: Descendants  of a parent node\n",
    "\n",
    "Reference: __[Trees, Binary Trees, and Binary Search](https://jamalrahman.co.uk/trees-binarytrees-binarysearch/)__\n",
    "\n",
    "### Complete Binary Tree\n",
    "Although there are many types of binary trees, only **complete binary tree** will be discussed in this context as it is related to heap sort.\n",
    "\n",
    "<img src=\"https://www.techiedelight.com/wp-content/uploads/Complete-Binary-Tree.png\" width=600 height=600 />\n",
    "\n",
    "Reference: __[Check if a binary tree is a complete binary tree or not](https://www.techiedelight.com/check-given-binary-tree-complete-binary-tree-not/)__\n",
    "\n",
    "In a *complete binary tree*, every level **has to be filled with nodes**, except the *lowest level* of the tree. However, it is vital to note that **any nodes at the lowest level of the tree must lean to the** ***left*** in order to be a *complete binary tree* as shown in the diagram above. Without any gaps between nodes, the tree will be **balanced** and therefore, allow heap to be represented efficiently in an array.\n",
    "\n",
    "Reference: __[Heap vs Binary Search Tree](https://www.baeldung.com/cs/heap-vs-binary-search-tree)__"
   ]
  },
  {
   "cell_type": "markdown",
   "id": "1852a3ff",
   "metadata": {},
   "source": [
    "## Heap\n",
    "***\n",
    "<img src=\"https://miro.medium.com/max/1400/1*piq5Ggxwz2Ldi26uQz_d5g.png\" width=600 height=600 />\n",
    "\n",
    "\n",
    "A heap has to meet two requirements:\n",
    "1. It must be a **complete binary tree**.\n",
    "2. In this complete binary tree, the *root* or *parent* node must be ***less or equal*** to the value of its *child nodes* while ***the root has the smallest number***, this heap is known as **Min-Heap**; or the *root* or *parent node* must be ***greater or equal*** to the value of its *child nodes* while ***the root has the largest number***, this heap is known as **Max-Heap**. \n",
    "\n",
    "Reference: __[What is Binary Heap?](https://medium.com/@mopurisreenath/what-is-binary-heap-25cd0f8bed24)__"
   ]
  }
 ],
 "metadata": {
  "kernelspec": {
   "display_name": "Python 3 (ipykernel)",
   "language": "python",
   "name": "python3"
  },
  "language_info": {
   "codemirror_mode": {
    "name": "ipython",
    "version": 3
   },
   "file_extension": ".py",
   "mimetype": "text/x-python",
   "name": "python",
   "nbconvert_exporter": "python",
   "pygments_lexer": "ipython3",
   "version": "3.9.7"
  }
 },
 "nbformat": 4,
 "nbformat_minor": 5
}
