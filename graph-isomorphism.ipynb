{
 "cells": [
  {
   "cell_type": "markdown",
   "id": "8911093a",
   "metadata": {},
   "source": [
    "# Graph Isomorphism Problem\n",
    "***"
   ]
  },
  {
   "cell_type": "markdown",
   "id": "645dfad5",
   "metadata": {},
   "source": [
    "### Introduction\n",
    "A graph can exist in differerent forms. Isomorphic graphs are graphs that have the same number of edges, vertices and same connectivity between edges. If two graphs have the same number of vertices and edges, plus, having the same connectivity, they are isomorphic. One can think of one graph as a distorted result of another"
   ]
  },
  {
   "cell_type": "markdown",
   "id": "e6cbe7a4",
   "metadata": {},
   "source": [
    "#### Terms\n",
    "- Set: A basic construct which contains elements\n",
    "- Tuple: List or array that is finite in length which have orders\n",
    "- Map: A set with tuples\n",
    "- Vertex/Vertices: Vertex can be known as nodes on the graph\n",
    "- Edge/Link: Connects two vertices together in a graph\n",
    "- Degree: Number of edges/links connected to the vertex"
   ]
  },
  {
   "cell_type": "markdown",
   "id": "3c10aaf1",
   "metadata": {},
   "source": [
    "## Bijection\n",
    "\n",
    "<img src=\"https://miro.medium.com/max/875/1*pOYqlEQw6gpovJNu2jd-gw.png\" width=600 height=600 />\n",
    "\n",
    "Bijection is also known as bijective function. It is a function where two graphs have exactly one-to-one relationship with each other. One of the conditions for two graphs to be isomorphic is to be bijective.\n",
    "\n",
    "### Injective\n",
    "\n",
    "<img src=\"https://miro.medium.com/max/625/1*Ulk9czUYZ-VotPXUpySnTA.png\" width=300 height=300 />\n",
    "\n",
    "\n",
    "### Surjective\n",
    "\n",
    "<img src=\"https://miro.medium.com/max/625/1*h-wuOTzS5cW2yw-EXk2zCQ.png\" width=300 height=300 />\n",
    "\n",
    "\n",
    "Reference: __[What is a bijection?](https://swang21.medium.com/what-is-a-bijection-795a8f01cf3b)__"
   ]
  }
 ],
 "metadata": {
  "kernelspec": {
   "display_name": "Python 3 (ipykernel)",
   "language": "python",
   "name": "python3"
  },
  "language_info": {
   "codemirror_mode": {
    "name": "ipython",
    "version": 3
   },
   "file_extension": ".py",
   "mimetype": "text/x-python",
   "name": "python",
   "nbconvert_exporter": "python",
   "pygments_lexer": "ipython3",
   "version": "3.9.7"
  }
 },
 "nbformat": 4,
 "nbformat_minor": 5
}
