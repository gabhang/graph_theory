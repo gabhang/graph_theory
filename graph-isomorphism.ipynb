{
 "cells": [
  {
   "cell_type": "markdown",
   "id": "8911093a",
   "metadata": {},
   "source": [
    "# Graph Isomorphism Problem\n",
    "***"
   ]
  },
  {
   "cell_type": "markdown",
   "id": "645dfad5",
   "metadata": {},
   "source": [
    "### Introduction\n",
    "A graph can exist in *differerent forms*. **Isomorphic graphs** are graphs that have the ***same number of edges, vertices and same connectivity between edges***. If two graphs have the ***same number of vertices and edges***, plus, having the ***same connectivity***, they are **isomorphic**. One can think of one graph as a *distorted result* of another.\n",
    "\n",
    "Reference: __[Graph Theory - Isomorphism](https://www.tutorialspoint.com/graph_theory/graph_theory_isomorphism.htm)__"
   ]
  },
  {
   "cell_type": "markdown",
   "id": "011bc8cf",
   "metadata": {},
   "source": [
    "## Graph\n",
    "***\n",
    "Before delving more into graph isomorphism, it is vital to have a basic understanding of graph.\n",
    "\n",
    "A **graph** $(G)$ is defined as $G = (V, E)$ where $V$ represents *vertices* or *nodes* and $E$ represents *edges* or *links*.\n",
    "\n",
    "### Terms\n",
    "- **Set**: A basic construct which contains elements\n",
    "- **Tuple**: List or array that is finite in length which have orders\n",
    "- **Map**: A set with tuples\n",
    "- **Vertex(Vertices)/Nodes**: Vertices are points in a graph that are denoted by alphabets\n",
    "- **Edge/Link**: Connection between two vertices in a graph\n",
    "- **Degree**: Number of edges/links connected to a vertex or the largest vertex degree of a graph\n",
    "\n",
    "Reference: __[Graph Theory - Fundamentals](https://www.tutorialspoint.com/graph_theory/graph_theory_fundamentals.htm)__\n",
    "\n",
    "<img src=\"https://www.tutorialspoint.com/discrete_mathematics/images/graph.jpg\" width=400 height=400 />\n",
    "\n",
    "Given the graph above:\n",
    ">$V = \\{a, b, c, d\\}$\n",
    "<br>\n",
    "$E = \\{\\{a, b\\}, \\{a, c\\}, \\{b, c\\}, \\{c, d\\}\\}$\n",
    "\n",
    "The degree of *Vertex a* will be 2 as there are 2 edges connected to it. Similarly, *Vertex b* has a degree of 2, *Vertex c* has a degree of 3 and *Vertex d* has a degree of 1.\n",
    "\n",
    "Reference: __[Graph & Graph Models](https://www.tutorialspoint.com/discrete_mathematics/graph_and_graph_models.htm)__"
   ]
  },
  {
   "cell_type": "markdown",
   "id": "9deacc9f",
   "metadata": {},
   "source": [
    "## Graphs in Data Structures\n",
    "***\n",
    "A **data structure** is a method of ***organizing data in memory*** for *efficiency*. For graphs, they can be represented using **adjacency matrix**, **adjacency list** and **adjacency set** data structures.\n",
    "\n",
    "### Adjacency Matrix\n",
    " \n",
    "Graphs can be represented using ***matrices*** by **adjacency matrices**. **Graph vertices** are labelled in the *rows and columns* of the matrix with **0** ***(not adjacent)*** or **1** ***(adjacent)*** to show the *adjacency relationship between vertices*.  If there are $n$ vertices, the rows and columns of the matrix will then be $n \\times n$ wide.\n",
    "\n",
    "<table><tr>\n",
    "<td> <img src=\"https://miro.medium.com/max/562/1*SPlJY2ya-n8-TeDvM4UQrw.png\" alt=\"Drawing\" style=\"width: 250px;, height: 250px;\"/> </td>\n",
    "<td> <img src=\"https://miro.medium.com/max/812/1*pJyi-gcSWIiix13vJOYhUw.jpeg\" alt=\"Drawing\" style=\"width: 250px;, height: 300px;\"/> </td>\n",
    "</tr></table>\n",
    "\n",
    "For instance, the matrix above is $5 \\times 5$ wide as there are *5 vertices*. As $v_{1}$ is ***adjacent*** to $v_{2}$ and $v_{5}$, hence, the relationship between them is written as **1** as shown, while others are written as **0**.\n",
    "\n",
    "Reference: __[Graph Theory : Graph Isomorphisms and Adjacency Matrix](https://medium.com/@oaydin/graph-theory-graph-isomorphisms-and-adjacency-matrix-735a6db97296)__\n",
    "\n",
    "### Adjacency List\n",
    "\n",
    "An **adjacency list** is another data structure of representing a graph using a ***linked list array***. Inside the array, each linked list represents ***a vertex*** in a graph and each element in the linked list represents ***other vertices*** that are ***connected*** with the vertex.\n",
    "\n",
    "<table><tr>\n",
    "<td> <img src=\"https://cdn.programiz.com/cdn/farfuture/-p4ka0P4riQvs-VRZHACdhlc48nVN1iOYdZmkk8F2FA/mtime:1625029631/sites/tutorial2program/files/adjacency-list-graph.png\" alt=\"Drawing\" style=\"width: 200px;, height: 200px;\"/> </td>\n",
    "<td> <img src=\"https://cdn.programiz.com/cdn/farfuture/h2DRie2qoBNmd2liy8DRj5TDcmODcVDBUZOyoPQ5AVM/mtime:1625029639/sites/tutorial2program/files/adjacency-list-representation.png\" alt=\"Drawing\" style=\"width: 200px;, height: 200px;\"/> </td>\n",
    "</tr></table>\n",
    "\n",
    "A sample graph is illustrated with vertices 0, 1, 2, 3. Each vertex forms a linked list with links to its adjacent vertices. Vertex 0 is ***adjacent*** to *Vertex 1, 2 and 3*, therefore, *0* is ***linked*** with *1, 2, 3* as shown above.\n",
    "\n",
    "Reference: __[Adjacency List](https://www.programiz.com/dsa/graph-adjacency-list)__\n",
    "\n",
    "### Adjacency Set\n",
    "\n",
    "An adjacency set is similar to an adjacency list. An adjacency set is a more efficient version of an adjacency list as it works better with adding and removing vertices. The only difference is that instead of representing each vertex in a linked list, each of them is represented as sets.\n",
    "\n",
    "### Which to choose?\n",
    "\n",
    "For graphs consist of many nodes or vertices (dense graphs), adjacency matrices work better. On contrary, graphs with a small number of nodes or vertices (sparse graphs) are better to be represented using adjacency lists and sets. A more detail explanation of which data structure to use can be found [here](https://dev.to/aop4/adjacency-sets-a-versatile-alternative-for-graph-representation-11nj).\n",
    "\n",
    "Reference: __[Representing Graphs in Data Structures](https://www.mygreatlearning.com/blog/representing-graphs-in-data-structures/#:~:text=A%20graph%20can%20be%20represented,the%20nodes%20of%20a%20graph.)__"
   ]
  },
  {
   "cell_type": "markdown",
   "id": "3c10aaf1",
   "metadata": {},
   "source": [
    "## Bijection\n",
    "***\n",
    "When two graphs are ***isomorphic***, one of the criterias is that there is a **bijection**, which is also known as **bijective funtion**, between them. It is a function where two graphs have exactly ***one-to-one (injective)*** and ***onto (surjective)*** relationship with each other. \n",
    "\n",
    "### Injective, Surjective and Bijective\n",
    "\n",
    "<img src=\"https://miro.medium.com/max/1400/1*wRTYmtoZOJIhCpDN9MmoSw.png\" width=500 height=400 />\n",
    "\n",
    "From the image above, **injective** means that ***each distint element*** in A is only mapping to an element in B **once**. On the other hand, **surjective** means that ***every elements in B*** gets covered by the mapping **at least once**. So, in order to be **bijective**, elements in A and B need to be **fully mapped and have a one-to-one relationship**.\n",
    "\n",
    "References: __[What is a bijection?](https://swang21.medium.com/what-is-a-bijection-795a8f01cf3b), [Spacetime is Uncountable: A Proof](https://medium.com/star-gazers/spacetime-is-uncountable-a-proof-3fc960ad143)__"
   ]
  },
  {
   "cell_type": "markdown",
   "id": "aa0c7efc",
   "metadata": {},
   "source": [
    "## Graph Isomorphism\n",
    "***\n",
    "It is clear that for two graphs to be **isomorphic** $G_{1} \\cong G_{2}$, there must be a ***bijection*** $f:V_{G_{1}} \\rightarrow V_{G_{2}}$ between their vertices. Not only that, two graphs are only **isomorphic** if there are ***corresponding vertices and edges*** $ \\{x, y\\} \\in E(G_{1}) \\iff \\{f(x), f(y)\\} \\in E(G_{2})$ between two graphs.\n",
    "\n",
    "<img src=\"https://encrypted-tbn1.gstatic.com/images?q=tbn:ANd9GcS7NFFCOxf6jARqcGluBoF1PX2KqTVm5M-DWU_TJMgquG_BC4zz\" width=600 height=500 />\n",
    "\n",
    "For example, two graphs shown above are **isomorphic**. Firstly, they both have *5 vertices* and *6 edges* or we can say they are ***bijective***. Secondly, The vertices and edges are ***corresponding with each other*** in both graphs. The correspondence between two graphs is illustrated on the right as shown.\n",
    "\n",
    "\n",
    "Reference: __[Isomorphic Graph](https://calcworkshop.com/trees-graphs/isomorphic-graph/)__\n",
    "\n",
    "For more complicated graphs, **adjacency matrix** could be used to *determine* whether two of the graphs are *isomorphic* by using the formula: $A_{G_{1}} = P \\times A_{G_{2}} \\times P^{T}$\n",
    ">$A_{G_{1}}$: Adjacency Matrix of Graph 1 <br>\n",
    "$A_{G_{2}}$: Adjacency Matrix of Graph 2 <br>\n",
    "$ P $  : Permutation Matrix <br>\n",
    "$ P^{T}$ : Transpose of Permutation Matrix P <br>\n",
    "\n",
    "The trickiest part is to find the ***correct permutation matrix*** to know whether two graphs are **isomorphic**. There will be ***a factorial of n*** or $n!$ *permutation matrices* if there are ***n vertices*** in a graph. If the **vertices** of two graphs get ***larger***, it will be *more complicated* and *time consuming* to determine isomorphism between them as *more permutation matrices will be involved*. This is because we need to ***loop through all possible permutation matrices*** for calculations to find out whether the two graphs are isomorphic. This formula will be discussed further in the next section with steps associated with codes.\n",
    "\n",
    "Reference: __[Graph Theory FAQs: 03. Isomorphism Using Adjacency Matrix](https://www.youtube.com/watch?v=UCle3Smvh1s&ab_channel=SaradaHerke)__"
   ]
  },
  {
   "cell_type": "markdown",
   "id": "1eccb78c",
   "metadata": {},
   "source": [
    "## Graph Isomorphism with Python\n",
    "***\n",
    "It is difficult to identify whether two complicated graphs are isomorphic when they have many vertices and edges by using our bare eyes. Therefore, Python will be used in this context to determine the isomorphism between two graphs, no matter how complex the graphs are. \n",
    "\n",
    "### Graph Plotting\n",
    "\n",
    "First, let us see how to plot graphs using Python. The first two graphs are **isomorphic** while the third graph is not isomorphic to any of them which can be seen easily and will be determined again using the algorithm in later sections:"
   ]
  },
  {
   "cell_type": "code",
   "execution_count": 1,
   "id": "d92962d1",
   "metadata": {},
   "outputs": [
    {
     "data": {
      "image/png": "[encoded data removed]",
      "text/plain": [
       "<Figure size 432x288 with 1 Axes>"
      ]
     },
     "metadata": {},
     "output_type": "display_data"
    }
   ],
   "source": [
    "# imports\n",
    "import matplotlib.pyplot as plt # for plots\n",
    "import networkx as nx # for graphs\n",
    "\n",
    "# parameters for drawing graphs using networkx\n",
    "params = {'node_color': 'lightgreen', 'node_size': 600, 'font_size': 14, 'with_labels': True}\n",
    "\n",
    "# Create graph 1 G_1 with edges from the graph section ({{𝑎,𝑏},{𝑎,𝑐},{𝑏,𝑐},{𝑐,𝑑}})\n",
    "G_1 = nx.Graph() # create graph G_1\n",
    "E = ((0, 1), (0, 2), (1, 2), (2, 3)) # declare edges E\n",
    "G_1.add_edges_from(E) # add edges E to G_1\n",
    "nx.draw_circular(G_1, **params) # draw graph G_1 with parameters declared previously"
   ]
  },
  {
   "cell_type": "code",
   "execution_count": 2,
   "id": "67d2d545",
   "metadata": {},
   "outputs": [
    {
     "data": {
      "image/png": "[encoded data removed]",
      "text/plain": [
       "<Figure size 432x288 with 1 Axes>"
      ]
     },
     "metadata": {},
     "output_type": "display_data"
    }
   ],
   "source": [
    "# Create graph 2 G_2 with edges similar to G_1 ({{𝑎,𝑏},{𝑎,𝑐},{𝑏,𝑐},{𝑐,𝑑}})\n",
    "G_2 = nx.Graph() # create graph G_2\n",
    "E = ((0, 1), (1, 2), (1, 3), (2, 3)) # declare edges E\n",
    "G_2.add_edges_from(E) # add edges E to G_2\n",
    "nx.draw_circular(G_2, **params) # draw graph G_1 with parameters declared previously"
   ]
  },
  {
   "cell_type": "code",
   "execution_count": 3,
   "id": "f03e3c10",
   "metadata": {},
   "outputs": [
    {
     "data": {
      "image/png": "[encoded data removed]",
      "text/plain": [
       "<Figure size 432x288 with 1 Axes>"
      ]
     },
     "metadata": {},
     "output_type": "display_data"
    }
   ],
   "source": [
    "# Create graph 3 G_3 with edges set up differently as compared to G_1 and G_2 although they have the same number of vertices\n",
    "G_3 = nx.Graph() # create graph G_3\n",
    "E = ((0, 1), (0, 3), (1, 2), (2, 3)) # declare edges E\n",
    "G_3.add_edges_from(E) # add edges E to G_2\n",
    "nx.draw_circular(G_3, **params) # draw graph G_1 with parameters declared previously"
   ]
  },
  {
   "cell_type": "markdown",
   "id": "3f4c45c3",
   "metadata": {},
   "source": [
    "Reference: __[Graph Isomorphism](https://colab.research.google.com/github/ianmcloughlin/jupyter-teaching-notebooks/blob/main/graph_isomorphism.ipynb#scrollTo=YuzRs5vn5A7R)__"
   ]
  },
  {
   "cell_type": "markdown",
   "id": "0b056aa1",
   "metadata": {},
   "source": [
    "### Adjacency Matrix\n",
    "\n",
    "In Python, the adjacency matrix of a graph can be displayed easily with NetworkX library using `to_numpy_matrix(G)` or `to_numpy_array(G)` function, taking graph (G) as input. It is interesting to note that numpy matrices are strictly ***2-dimensional*** while numpy arrays support ***multi-dimensional arrays***. Numpy matrices are *more restricted* as compared to numpy arrays too. \n",
    "\n",
    "\n",
    "Reference: __[What are the differences between numpy arrays and matrices? Which one should I use?](https://stackoverflow.com/questions/4151128/what-are-the-differences-between-numpy-arrays-and-matrices-which-one-should-i-u#:~:text=Numpy%20matrices%20are%20strictly%202,attributes%20and%20methods%20of%20ndarrays.)__\n",
    "\n",
    "As the numpy documentation suggests, `to_numpy_array(G)` function will be used in this context as numpy matrix may be *removed* in the future.\n",
    "\n",
    "Reference: __[Numpy Matrix](https://numpy.org/doc/stable/reference/generated/numpy.matrix.html)__\n",
    "\n",
    "Python code demonstration for Adjacency Matrix is as follows:"
   ]
  },
  {
   "cell_type": "code",
   "execution_count": 4,
   "id": "3b572955",
   "metadata": {},
   "outputs": [
    {
     "name": "stdout",
     "output_type": "stream",
     "text": [
      "---Graph 1---\n",
      "[[0 1 1 0]\n",
      " [1 0 1 0]\n",
      " [1 1 0 1]\n",
      " [0 0 1 0]]\n",
      "---Graph 2---\n",
      "[[0 1 0 0]\n",
      " [1 0 1 1]\n",
      " [0 1 0 1]\n",
      " [0 1 1 0]]\n",
      "---Graph 3---\n",
      "[[0 1 1 0]\n",
      " [1 0 0 1]\n",
      " [1 0 0 1]\n",
      " [0 1 1 0]]\n"
     ]
    }
   ],
   "source": [
    "import numpy as np # for arrays/matrices\n",
    "\n",
    "# Declare adjacency matrix and\n",
    "# convert to integer for better visualisation\n",
    "print(\"---Graph 1---\")\n",
    "A_G_1 = nx.to_numpy_array(G_1).astype(int)\n",
    "print(A_G_1) # print graph 1\n",
    "print(\"---Graph 2---\")\n",
    "A_G_2 = nx.to_numpy_array(G_2).astype(int)\n",
    "print(A_G_2) # print graph 2\n",
    "print(\"---Graph 3---\")\n",
    "A_G_3 = nx.to_numpy_array(G_3).astype(int)\n",
    "print(A_G_3) # print graph 3"
   ]
  },
  {
   "cell_type": "markdown",
   "id": "526f07cd",
   "metadata": {},
   "source": [
    "Reference: __[Converting to and from other data formats](https://networkx.org/documentation/stable/reference/convert.html)__"
   ]
  },
  {
   "cell_type": "markdown",
   "id": "368ba8f5",
   "metadata": {},
   "source": [
    "### Brute Force Algorithm\n",
    "\n",
    "\n",
    "As **Graph Isomorphism Problem** is ***not yet solved***, we will ***iterate through*** **all possibilities** or **permutation matrices** in this context to *determine isomorphism between two graphs* by using **brute force algorithm**. In layman's term, iterate through ***every possible solution*** to the problem. This algorithm will take ***adjacency matrices of both graphs*** to find out if they are **isomorphic**. As this is an **inefficient algorithm** which consumes a lot of computational power, this algorithm ***only handles graphs with at most 8 vertices***.\n",
    "\n",
    "Reference: __[Most important type of Algorithms](https://www.geeksforgeeks.org/most-important-type-of-algorithms/)__"
   ]
  },
  {
   "cell_type": "markdown",
   "id": "5c90d05a",
   "metadata": {},
   "source": [
    "#### Check Length Function\n",
    "The first function gets the **length of the adjacency matrix** to check whether both graphs have the **same number of vertices** which takes an *adjacency matrix* as a parameter."
   ]
  },
  {
   "cell_type": "code",
   "execution_count": 5,
   "id": "43917005",
   "metadata": {},
   "outputs": [],
   "source": [
    "def get_vertices(adj_mat):\n",
    "    # check if rows and columns are equal\n",
    "    if len(adj_mat) != len(adj_mat[0]):\n",
    "        return -1 # return -1 as it cannot be an adjacency matrix\n",
    "    else:\n",
    "        return len(adj_mat) # return length/number of vertices of adjacency matrix"
   ]
  },
  {
   "cell_type": "markdown",
   "id": "ae64da95",
   "metadata": {},
   "source": [
    "#### Check Degree Sequence Function\n",
    "The function returns the **degree sequence of vertices** to check whether both graphs have the *same degree sequence*, taking an *adjacency matrix* as a parameter."
   ]
  },
  {
   "cell_type": "code",
   "execution_count": 6,
   "id": "1ba6960c",
   "metadata": {},
   "outputs": [],
   "source": [
    "def get_degree_of_vertices(adj_mat):\n",
    "    degree_of_vertices = [] # declare an array to store degrees\n",
    "    \n",
    "    # loop through all the vertices and get their degrees\n",
    "    for vertex in range(len(adj_mat)):\n",
    "        degree_of_vertices.append(sum(adj_mat[vertex])) # append to array\n",
    "        \n",
    "    degree_of_vertices.sort(reverse=True) # sort in descending order for comparisons between two graphs\n",
    "    \n",
    "    return degree_of_vertices # return array"
   ]
  },
  {
   "cell_type": "markdown",
   "id": "08bb885f",
   "metadata": {},
   "source": [
    "#### Generate Permutations Function\n",
    "The next function calculates **all the possible permutations** according to the number of vertices of a graph which also takes an *adjacency matrix* as a parameter."
   ]
  },
  {
   "cell_type": "code",
   "execution_count": 7,
   "id": "86232dac",
   "metadata": {},
   "outputs": [],
   "source": [
    "import itertools as it # for permutations\n",
    "\n",
    "def get_all_permutations(adj_mat):\n",
    "    # prompt user if number of vertices is larger than 8 as it is just too much for this function/algorithm to handle\n",
    "    if get_vertices(adj_mat) > 8:\n",
    "        print(\"The number of vertices is larger than 8 which cannot be handled by this function.\")\n",
    "        return -1\n",
    "    \n",
    "    all_perm_matrix = [] # declare an array to store all permutations\n",
    "    idx = list(range(len(adj_mat))) \n",
    "    # get all possible permutations\n",
    "    possible_permutations = [\n",
    "        list(i) for i in it.permutations(idx, len(idx))\n",
    "    ]\n",
    "    \n",
    "    # loop through all permutations\n",
    "    for idx_comb in possible_permutations:\n",
    "        # tidy up\n",
    "        a = adj_mat\n",
    "        a = a[idx_comb]\n",
    "        a = np.transpose(np.transpose(a)[idx_comb])\n",
    "        \n",
    "        # append to array\n",
    "        all_perm_matrix.append({\n",
    "            \"perm_vertex\":\n",
    "            idx_comb,\n",
    "            \"adj_matrix\":\n",
    "            a\n",
    "        })\n",
    "\n",
    "    return all_perm_matrix # return"
   ]
  },
  {
   "cell_type": "markdown",
   "id": "27c2a071",
   "metadata": {},
   "source": [
    "#### Check Isomorphism Function\n",
    "The last function **combines all previous functions** to check whether to graphs are **isomorphic**, taking *both graphs' adjacency matrices* as parameters."
   ]
  },
  {
   "cell_type": "code",
   "execution_count": 8,
   "id": "f59a929b",
   "metadata": {},
   "outputs": [],
   "source": [
    "def check_graph_isomorphism(adj_mat_1, adj_mat_2):\n",
    "    \n",
    "    # get degree sequence for both graphs\n",
    "    degree_sequence_1 = get_degree_of_vertices(adj_mat_1)\n",
    "    degree_sequence_2 = get_degree_of_vertices(adj_mat_2)\n",
    "    \n",
    "    # check if number of vertices of two graphs are the same\n",
    "    if get_vertices(adj_mat_1) != get_vertices(adj_mat_2):\n",
    "        return False # returns false if not the same\n",
    "    # check if degree sequence of both graphs matches\n",
    "    elif np.array_equal(degree_sequence_1, degree_sequence_2) == False:\n",
    "        return False # return false if not match\n",
    "    # if both of the conditions above are passed...\n",
    "    else:\n",
    "        # loop through all possible permutations of the graph/adjacency matrix\n",
    "        for adj_matrix in list(\n",
    "                map(lambda matrix: matrix[\"adj_matrix\"],\n",
    "                    get_all_permutations(adj_mat_2))):\n",
    "            # return true if one of the permutation matrices matches\n",
    "            if np.array_equal(adj_mat_1, adj_matrix) == True:\n",
    "                return True\n",
    "    return False # returns false if nothing found"
   ]
  },
  {
   "cell_type": "code",
   "execution_count": 9,
   "id": "7544a032",
   "metadata": {},
   "outputs": [
    {
     "data": {
      "text/plain": [
       "True"
      ]
     },
     "execution_count": 9,
     "metadata": {},
     "output_type": "execute_result"
    }
   ],
   "source": [
    "# Test the function using adjacency matrices of first two graphs declared above\n",
    "check_graph_isomorphism(A_G_1, A_G_2)"
   ]
  },
  {
   "cell_type": "code",
   "execution_count": 10,
   "id": "55f93e12",
   "metadata": {},
   "outputs": [
    {
     "data": {
      "text/plain": [
       "False"
      ]
     },
     "execution_count": 10,
     "metadata": {},
     "output_type": "execute_result"
    }
   ],
   "source": [
    "# Test the function using adjacency matrices of first and third graph declared above\n",
    "check_graph_isomorphism(A_G_1, A_G_3)"
   ]
  },
  {
   "cell_type": "code",
   "execution_count": 11,
   "id": "7b9bb355",
   "metadata": {},
   "outputs": [
    {
     "data": {
      "text/plain": [
       "False"
      ]
     },
     "execution_count": 11,
     "metadata": {},
     "output_type": "execute_result"
    }
   ],
   "source": [
    "# Test the function using adjacency matrices of last two graphs declared above\n",
    "check_graph_isomorphism(A_G_2, A_G_3)"
   ]
  },
  {
   "cell_type": "markdown",
   "id": "e252ce94",
   "metadata": {},
   "source": [
    "Although **all three graphs** have the ***same number of vertices***, the outcomes are *different* as some of them are *not isomorphic* to one another. In this context, **Graph 3** is ***not isomorphic*** with ***neither of the first two graphs*** as it has a ***different degree sequence*** (all of its edges are connected to two vertices).\n",
    "\n",
    "Reference: __[Brute-force code for Isomorphisms](https://tonicanada.medium.com/brute-force-code-for-isomorphisms-1241ef180570)__"
   ]
  },
  {
   "cell_type": "markdown",
   "id": "4da22b06",
   "metadata": {},
   "source": [
    "### Networkx Isomorphism\n",
    "After going through all the steps to determine whether two graphs are isomorphic. It is vital to note that in networkx, there is a function to determine whether there is an isomorphism between two graphs and the output should be the same as above."
   ]
  },
  {
   "cell_type": "code",
   "execution_count": 12,
   "id": "c2169fba",
   "metadata": {},
   "outputs": [
    {
     "data": {
      "text/plain": [
       "True"
      ]
     },
     "execution_count": 12,
     "metadata": {},
     "output_type": "execute_result"
    }
   ],
   "source": [
    "# Check first two graphs\n",
    "nx.is_isomorphic(G_1, G_2)"
   ]
  },
  {
   "cell_type": "code",
   "execution_count": 13,
   "id": "9a32668b",
   "metadata": {},
   "outputs": [
    {
     "data": {
      "text/plain": [
       "False"
      ]
     },
     "execution_count": 13,
     "metadata": {},
     "output_type": "execute_result"
    }
   ],
   "source": [
    "# Check first and third graph\n",
    "nx.is_isomorphic(G_1, G_3)"
   ]
  },
  {
   "cell_type": "code",
   "execution_count": 14,
   "id": "37491ae0",
   "metadata": {},
   "outputs": [
    {
     "data": {
      "text/plain": [
       "False"
      ]
     },
     "execution_count": 14,
     "metadata": {},
     "output_type": "execute_result"
    }
   ],
   "source": [
    "# Check last two graphs\n",
    "nx.is_isomorphic(G_2, G_3)"
   ]
  },
  {
   "cell_type": "markdown",
   "id": "377fbed5",
   "metadata": {},
   "source": [
    "Reference: __[is_isomorphic](https://networkx.org/documentation/stable/reference/algorithms/generated/networkx.algorithms.isomorphism.is_isomorphic.html#r09ac410bc650-1)__"
   ]
  },
  {
   "cell_type": "markdown",
   "id": "e2cabcea",
   "metadata": {},
   "source": [
    "## Graph Isomorphism Problem Complexity\n",
    "***\n",
    "There is a complexity of $O(N^{2} * N!)$ for the brute force approach used above where $N$ represents the number of vertices. It is almost *impossible* to solve the graph isomorphism problem *efficiently* in a short time using the brute force approach when there is an extremely large amount of vertices in a graph. \n",
    "\n",
    "Reference: __[Graph Isomorphism Algorithms: Investigation Of The Graph\n",
    "Isomorphism Problem](https://stars.library.ucf.edu/cgi/viewcontent.cgi?article=1105&context=istlibrary&httpsredir=1&referer=)__\n",
    "\n",
    "The ***precise computational complexity*** of **Graph Isomorphism Problem** is ***yet to be determined***. As of now, Graph Isomorphism Problem is classfied in the **NP class** which will be discussed later as it is **unsolvable in polynomial time**.\n",
    "\n",
    "Reference: __[The Graph Isomorphism Problem](https://cacm.acm.org/magazines/2020/11/248220-the-graph-isomorphism-problem/fulltext)__\n",
    "\n",
    "### P versus NP problem\n",
    "<img src=\"https://miro.medium.com/max/1190/1*5hGX6TN4bUEZX0FpMxZHfQ.png\" width=500 height=500 />\n",
    "\n",
    "**P** stands for **Polynomial Time**. Problems that can be ***verified and solved easily*** (addition, heap sort, etc.) are classified in class P. Any problems or algorithm which has ***time or space complexity*** are all considered in the P class.\n",
    "\n",
    "**Non-deterministic Polynomial Time (NP)** on the other hand, refers to problem that ***cannot be solved quickly (in polynomial time)*** but can be ***verified quickly***. This means that if the *solution* of the problem in NP class is given, it can be *checked and verified quickly* if it is the correct solution to the problem. However, NP problems are ***not possible to solve in polynomial time***. **Graph Isomorphism Problem** is a perfect example of a NP problem.\n",
    "\n",
    "#### P $\\neq$ NP? versus  P $=$ NP?\n",
    "\n",
    "<img src=\"https://miro.medium.com/max/1400/1*t0BB6ORWPHUdjC5DcVtflQ.png\" width=500 height=500 />\n",
    "\n",
    "It is debatable whether *P is equal to NP*. If it is easy enough to verify the solution to its problem, will it be possible to find an efficient way to solve them? \n",
    "\n",
    "This is a **'real' million dollar question** waiting to be solved.\n",
    "\n",
    "References: __[The Aged P versus NP Problem](https://towardsdatascience.com/the-aged-p-versus-np-problem-91c2bd5dce23), [P Vs NP Problem In A Nutshell.](https://medium.com/@bilalaamir/p-vs-np-problem-in-a-nutshell-dbf08133bec5)__"
   ]
  },
  {
   "cell_type": "code",
   "execution_count": null,
   "id": "a043eaa3",
   "metadata": {},
   "outputs": [],
   "source": []
  }
 ],
 "metadata": {
  "kernelspec": {
   "display_name": "Python 3 (ipykernel)",
   "language": "python",
   "name": "python3"
  },
  "language_info": {
   "codemirror_mode": {
    "name": "ipython",
    "version": 3
   },
   "file_extension": ".py",
   "mimetype": "text/x-python",
   "name": "python",
   "nbconvert_exporter": "python",
   "pygments_lexer": "ipython3",
   "version": "3.9.7"
  }
 },
 "nbformat": 4,
 "nbformat_minor": 5
}
