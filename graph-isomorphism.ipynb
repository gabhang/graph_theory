{
 "cells": [
  {
   "cell_type": "markdown",
   "id": "8911093a",
   "metadata": {},
   "source": [
    "# Graph Isomorphism Problem\n",
    "***"
   ]
  },
  {
   "cell_type": "markdown",
   "id": "645dfad5",
   "metadata": {},
   "source": [
    "### Introduction\n",
    "A graph can exist in *differerent forms*. **Isomorphic graphs** are graphs that have the ***same number of edges, vertices and same connectivity between edges***. If two graphs have the ***same number of vertices and edges***, plus, having the ***same connectivity***, they are **isomorphic**. One can think of one graph as a *distorted result* of another.\n",
    "\n",
    "Reference: __[Graph Theory - Isomorphism](https://www.tutorialspoint.com/graph_theory/graph_theory_isomorphism.htm)__"
   ]
  },
  {
   "cell_type": "markdown",
   "id": "011bc8cf",
   "metadata": {},
   "source": [
    "## Graph\n",
    "***\n",
    "Before delving more into graph isomorphism, it is vital to have a basic understanding of graph.\n",
    "\n",
    "A **graph** $(G)$ is defined as $G = (V, E)$ where $V$ represents *vertices* or *nodes* and $E$ represents *edges* or *links*.\n",
    "\n",
    "### Terms\n",
    "- **Set**: A basic construct which contains elements\n",
    "- **Tuple**: List or array that is finite in length which have orders\n",
    "- **Map**: A set with tuples\n",
    "- **Vertex(Vertices)/Nodes**: Vertices are points in a graph that are denoted by alphabets\n",
    "- **Edge/Link**: Connection between two vertices in a graph\n",
    "- **Degree**: Number of edges/links connected to a vertex or the largest vertex degree of a graph\n",
    "\n",
    "Reference: __[Graph Theory - Fundamentals](https://www.tutorialspoint.com/graph_theory/graph_theory_fundamentals.htm)__\n",
    "\n",
    "<img src=\"https://www.tutorialspoint.com/discrete_mathematics/images/graph.jpg\" width=400 height=400 />\n",
    "\n",
    "Given the graph above:\n",
    ">$V = \\{a, b, c, d\\}$\n",
    "<br>\n",
    "$E = \\{\\{a, b\\}, \\{a, c\\}, \\{b, c\\}, \\{c, d\\}\\}$\n",
    "\n",
    "The degree of *Vertex a* will be 2 as there are 2 edges connected to it. Similarly, *Vertex b* has a degree of 2, *Vertex c* has a degree of 3 and *Vertex d* has a degree of 1.\n",
    "\n",
    "Reference: __[Graph & Graph Models](https://www.tutorialspoint.com/discrete_mathematics/graph_and_graph_models.htm)__"
   ]
  },
  {
   "cell_type": "markdown",
   "id": "3c10aaf1",
   "metadata": {},
   "source": [
    "## Bijection\n",
    "***\n",
    "When two graphs are ***isomorphic***, one of the criterias is that there is a **bijection**, which is also known as **bijective funtion**, between them. It is a function where two graphs have exactly ***one-to-one (injective)*** and ***onto (surjective)*** relationship with each other. \n",
    "\n",
    "### Injective, Surjective and Bijective\n",
    "\n",
    "<img src=\"https://miro.medium.com/max/1400/1*wRTYmtoZOJIhCpDN9MmoSw.png\" width=500 height=400 />\n",
    "\n",
    "From the image above, **injective** means that ***each distint element*** in A is only mapping to an element in B **once**. On the other hand, **surjective** means that ***every elements in B*** gets covered by the mapping **at least once**. So, in order to be **bijective**, elements in A and B need to be **fully mapped and have a one-to-one relationship**.\n",
    "\n",
    "References: __[What is a bijection?](https://swang21.medium.com/what-is-a-bijection-795a8f01cf3b), [Spacetime is Uncountable: A Proof](https://medium.com/star-gazers/spacetime-is-uncountable-a-proof-3fc960ad143)__"
   ]
  },
  {
   "cell_type": "markdown",
   "id": "aa0c7efc",
   "metadata": {},
   "source": [
    "## Graph Isomorphism\n",
    "***\n",
    "It is clear that for two graphs to be **isomorphic** $G_{1} \\cong G_{2}$, there must be a ***bijection*** $f:V_{G_{1}} \\rightarrow V_{G_{2}}$ between their vertices. Not only that, two graphs are only **isomorphic** if there are ***corresponding vertices and edges*** $ \\{x, y\\} \\in E(G_{1}) \\iff \\{f(x), f(y)\\} \\in E(G_{2})$ between two graphs.\n",
    "\n",
    "<img src=\"https://encrypted-tbn1.gstatic.com/images?q=tbn:ANd9GcS7NFFCOxf6jARqcGluBoF1PX2KqTVm5M-DWU_TJMgquG_BC4zz\" width=600 height=500 />\n",
    "\n",
    "For example, two graphs shown above are **isomorphic**. Firstly, they both have *5 vertices* and *6 edges* or we can say they are ***bijective***. Secondly, The vertices and edges are ***corresponding with each other*** in both graphs. The correspondence between two graphs is illustrated on the right as shown.\n",
    "\n",
    "Reference: __[Isomorphic Graph](https://calcworkshop.com/trees-graphs/isomorphic-graph/)__"
   ]
  },
  {
   "cell_type": "markdown",
   "id": "1eccb78c",
   "metadata": {},
   "source": [
    "## Graph Isomorphism with Python\n",
    "***\n",
    "It is difficult to identify whether two complicated graphs are isomorphic when they have many vertices and edges by using our bare eyes. Therefore, Python will be used in this context to determine the isomorphism between two graphs, no matter how complex the graphs are. \n",
    "\n",
    "## Graph Plotting\n",
    "\n",
    "First, let us see how to plot a graph using Python:"
   ]
  },
  {
   "cell_type": "code",
   "execution_count": 1,
   "id": "d92962d1",
   "metadata": {},
   "outputs": [
    {
     "data": {
      "image/png": "[encoded data removed]",
      "text/plain": [
       "<Figure size 432x288 with 1 Axes>"
      ]
     },
     "metadata": {},
     "output_type": "display_data"
    }
   ],
   "source": [
    "# imports\n",
    "import matplotlib.pyplot as plt # for plots\n",
    "import networkx as nx # for graphs\n",
    "\n",
    "# parameters for drawing graphs using networkx\n",
    "params = {'node_color': 'lightgreen', 'node_size': 600, 'font_size': 14, 'with_labels': True}\n",
    "\n",
    "# Create graph G with edges from the graph section ({{𝑎,𝑏},{𝑎,𝑐},{𝑏,𝑐},{𝑐,𝑑}})\n",
    "G = nx.Graph() # create graph G\n",
    "E = ((0, 1), (0, 2), (1, 2), (2, 3)) # declare edges E\n",
    "G.add_edges_from(E) # add edges E to graph G\n",
    "nx.draw_circular(G, **params) # draw graph G with parameters declared previously"
   ]
  },
  {
   "cell_type": "markdown",
   "id": "3f4c45c3",
   "metadata": {},
   "source": [
    "Reference: __[Graph Isomorphism](https://colab.research.google.com/github/ianmcloughlin/jupyter-teaching-notebooks/blob/main/graph_isomorphism.ipynb#scrollTo=YuzRs5vn5A7R)__"
   ]
  }
 ],
 "metadata": {
  "kernelspec": {
   "display_name": "Python 3 (ipykernel)",
   "language": "python",
   "name": "python3"
  },
  "language_info": {
   "codemirror_mode": {
    "name": "ipython",
    "version": 3
   },
   "file_extension": ".py",
   "mimetype": "text/x-python",
   "name": "python",
   "nbconvert_exporter": "python",
   "pygments_lexer": "ipython3",
   "version": "3.9.7"
  }
 },
 "nbformat": 4,
 "nbformat_minor": 5
}
