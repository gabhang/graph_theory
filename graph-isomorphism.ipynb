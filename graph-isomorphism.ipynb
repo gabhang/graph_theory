{
 "cells": [
  {
   "cell_type": "markdown",
   "id": "8911093a",
   "metadata": {},
   "source": [
    "# Graph Isomorphism Problem\n",
    "***"
   ]
  },
  {
   "cell_type": "markdown",
   "id": "645dfad5",
   "metadata": {},
   "source": [
    "### Introduction\n",
    "A graph can exist in differerent forms. Isomorphic graphs are graphs that have the same number of edges, vertices and same connectivity between edges. If two graphs have the same number of vertices and edges, plus, having the same connectivity, they are isomorphic. One can think of one graph as a distorted result of another\n",
    "\n",
    "Reference: __[Graph Theory - Isomorphism](https://www.tutorialspoint.com/graph_theory/graph_theory_isomorphism.htm)__"
   ]
  },
  {
   "cell_type": "markdown",
   "id": "e6cbe7a4",
   "metadata": {},
   "source": [
    "#### Terms\n",
    "- Set: A basic construct which contains elements\n",
    "- Tuple: List or array that is finite in length which have orders\n",
    "- Map: A set with tuples\n",
    "- Vertex/Vertices: Vertex can be known as nodes on the graph\n",
    "- Edge/Link: Connects two vertices together in a graph\n",
    "- Degree: Number of edges/links connected to the vertex"
   ]
  },
  {
   "cell_type": "markdown",
   "id": "3c10aaf1",
   "metadata": {},
   "source": [
    "## Bijection\n",
    "***\n",
    "When two graphs are ***isomorphic***, one of the criteria is that there is a **bijection**, which is also known as **bijective funtion**, between them. It is a function where two graphs have exactly ***one-to-one (injective)*** and ***onto (surjective)*** relationship with each other. \n",
    "\n",
    "### Injective, Surjective and Bijective\n",
    "\n",
    "<img src=\"https://miro.medium.com/max/1400/1*wRTYmtoZOJIhCpDN9MmoSw.png\" width=500 height=400 />\n",
    "\n",
    "From the image above, **injective** means that ***each distint element*** in A is only mapping to an element in B **once**. On the other hand, **surjective** means that ***every elements in B*** gets covered by the mapping **at least once**. So, in order to be **bijective**, elements in A and B need to be **fully mapped and have a one-to-one relationship**.\n",
    "\n",
    "Reference: __[What is a bijection?](https://swang21.medium.com/what-is-a-bijection-795a8f01cf3b), [Spacetime is Uncountable: A Proof](https://medium.com/star-gazers/spacetime-is-uncountable-a-proof-3fc960ad143)__"
   ]
  },
  {
   "cell_type": "code",
   "execution_count": null,
   "id": "f3f451f3",
   "metadata": {},
   "outputs": [],
   "source": []
  }
 ],
 "metadata": {
  "kernelspec": {
   "display_name": "Python 3 (ipykernel)",
   "language": "python",
   "name": "python3"
  },
  "language_info": {
   "codemirror_mode": {
    "name": "ipython",
    "version": 3
   },
   "file_extension": ".py",
   "mimetype": "text/x-python",
   "name": "python",
   "nbconvert_exporter": "python",
   "pygments_lexer": "ipython3",
   "version": "3.9.7"
  }
 },
 "nbformat": 4,
 "nbformat_minor": 5
}
