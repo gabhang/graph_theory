{
 "cells": [
  {
   "cell_type": "markdown",
   "id": "8911093a",
   "metadata": {},
   "source": [
    "# Graph Isomorphism Problem\n",
    "***"
   ]
  },
  {
   "cell_type": "markdown",
   "id": "645dfad5",
   "metadata": {},
   "source": [
    "### Introduction\n",
    "A graph can exist in differerent forms. Isomorphic graphs are graphs that have the same number of edges, vertices and same connectivity between edges. If two graphs have the same number of vertices and edges, plus, having the same connectivity, they are isomorphic. One can think of one graph as a distorted result of another"
   ]
  },
  {
   "cell_type": "markdown",
   "id": "e6cbe7a4",
   "metadata": {},
   "source": [
    "#### Terms\n",
    "- Set: A basic construct which contains elements\n",
    "- Tuple: List or array that is finite in length which have orders\n",
    "- Map: A set with tuples\n",
    "- Vertex/Vertices: Vertex can be known as nodes on the graph\n",
    "- Edge/Link: Connects two vertices together in a graph\n",
    "- Degree: Number of edges/links connected to the vertex"
   ]
  }
 ],
 "metadata": {
  "kernelspec": {
   "display_name": "Python 3 (ipykernel)",
   "language": "python",
   "name": "python3"
  },
  "language_info": {
   "codemirror_mode": {
    "name": "ipython",
    "version": 3
   },
   "file_extension": ".py",
   "mimetype": "text/x-python",
   "name": "python",
   "nbconvert_exporter": "python",
   "pygments_lexer": "ipython3",
   "version": "3.9.7"
  }
 },
 "nbformat": 4,
 "nbformat_minor": 5
}
